{
 "cells": [
  {
   "cell_type": "markdown",
   "metadata": {},
   "source": [
    "# Lab 3: Create a Simple AI Agent\n",
    "\n",
    "In this lab, we'll introduce you to AI agents by creating a simple agent that will create a bar graph based on data that we give to it. "
   ]
  },
  {
   "cell_type": "markdown",
   "metadata": {},
   "source": [
    "#### Step 1: Load packages"
   ]
  },
  {
   "cell_type": "code",
   "execution_count": 5,
   "metadata": {},
   "outputs": [
    {
     "data": {
      "text/plain": [
       "True"
      ]
     },
     "execution_count": 5,
     "metadata": {},
     "output_type": "execute_result"
    }
   ],
   "source": [
    "import os\n",
    "from typing import Any\n",
    "from pathlib import Path\n",
    "from dotenv import load_dotenv\n",
    "from azure.ai.projects import AIProjectClient\n",
    "from azure.core.credentials import AzureKeyCredential\n",
    "from azure.identity import DefaultAzureCredential\n",
    "from azure.ai.agents.models import CodeInterpreterTool # previously in azure.ai.projects.models\n",
    "\n",
    "load_dotenv() # Load environment variables from .env file"
   ]
  },
  {
   "cell_type": "markdown",
   "metadata": {},
   "source": [
    "#### Step 2: Connect to your Azure AI Foundry project"
   ]
  },
  {
   "cell_type": "code",
   "execution_count": 6,
   "metadata": {},
   "outputs": [],
   "source": [
    "# First try with token-based authentication, which is recommended\n",
    "project = AIProjectClient(\n",
    "    endpoint=os.getenv(\"AIPROJECT_ENDPOINT\"),\n",
    "    credential=DefaultAzureCredential()\n",
    ")"
   ]
  },
  {
   "cell_type": "code",
   "execution_count": null,
   "metadata": {},
   "outputs": [],
   "source": [
    "# If you want to use key-based authentication, uncomment the following lines. Note, you will need to refactor the code to use the key-based client.\n",
    "#project = AIProjectClient(\n",
    "#    endpoint=os.getenv(\"AIPROJECT_ENDPOINT\"),\n",
    "#    credential=AzureKeyCredential(os.getenv(\"API_KEY\"))\n",
    "#)"
   ]
  },
  {
   "cell_type": "markdown",
   "metadata": {},
   "source": [
    "#### Step 3: Create the simple AI Agent"
   ]
  },
  {
   "cell_type": "code",
   "execution_count": 7,
   "metadata": {},
   "outputs": [
    {
     "name": "stdout",
     "output_type": "stream",
     "text": [
      "Created agent, ID: asst_M77GZyhyxZrp5xCw7DZYN9uG\n",
      "Created thread, ID: thread_PFNd08OO9FXiDqgJCjyQBNJO\n",
      "Created message, ID: msg_2LdXx3FWaphrSPJgiryVHKqh\n",
      "Run finished with status: RunStatus.COMPLETED\n",
      "Conversation:\n",
      "MessageRole.AGENT: [{'type': 'image_file', 'image_file': {'file_id': 'assistant-PJ48UfxVkQg8iq8WQdLL3o'}}, {'type': 'text', 'text': {'value': 'The bar chart comparing the health plans has been created and saved as `health-plan-comparison.png`. You can download it using the link below:\\n\\n[Download the chart](sandbox:/mnt/data/health-plan-comparison.png)', 'annotations': [{'type': 'file_path', 'text': 'sandbox:/mnt/data/health-plan-comparison.png', 'start_index': 165, 'end_index': 209, 'file_path': {'file_id': 'assistant-MDUgHFLAZyAxmAKeW1bPSn'}}]}}]\n",
      "Saved image file to: c:\\VS-Code\\Git-Repos\\elsafecke-azure-ai-agents-labs\\azure-ai-agents-labs\\health-plan-comparison.png\n",
      "MessageRole.USER: [{'type': 'text', 'text': {'value': 'Could you please create a bar chart for the using the following data and provide the file to me? Name the file as health-plan-comparision.png.\\n\\nHere is the data:\\nProvider        Monthly Premium    Deductible    Out-of-Pocket Limit\\nNorthwind       $300               $1,500        $6,000\\nAetna           $350               $1,000        $5,500\\nUnited Health   $250               $2,000        $7,000\\nPremera         $200               $2,200        $6,500\\n', 'annotations': []}}]\n",
      "Deleted agent\n"
     ]
    }
   ],
   "source": [
    "code_interpreter = CodeInterpreterTool()\n",
    "with project:\n",
    "    # Create an agent with the CodeInterpreterTool\n",
    "    agent = project.agents.create_agent(\n",
    "        model=os.environ[\"CHAT_MODEL\"],\n",
    "        name=\"my-agent\",  # Name of the agent\n",
    "        instructions=\"You are a helpful agent\",  # Instructions for the agent\n",
    "        tools=code_interpreter.definitions,\n",
    "    )\n",
    "    print(f\"Created agent, ID: {agent.id}\")\n",
    "\n",
    "    # Create a thread for communication\n",
    "    thread = project.agents.threads.create()\n",
    "    print(f\"Created thread, ID: {thread.id}\")\n",
    "    \n",
    "    # Add a message to the thread\n",
    "    message = project.agents.messages.create(\n",
    "        thread_id=thread.id,\n",
    "        role=\"user\",\n",
    "        content=(\n",
    "            \"Could you please create a bar chart for the using the following data and provide the file to me? \"\n",
    "            \"Name the file as health-plan-comparision.png.\\n\\n\"\n",
    "            \"Here is the data:\\n\"\n",
    "            \"Provider        Monthly Premium    Deductible    Out-of-Pocket Limit\\n\"\n",
    "            \"Northwind       $300               $1,500        $6,000\\n\"\n",
    "            \"Aetna           $350               $1,000        $5,500\\n\"\n",
    "            \"United Health   $250               $2,000        $7,000\\n\"\n",
    "            \"Premera         $200               $2,200        $6,500\\n\"\n",
    "        ),\n",
    "    )\n",
    "    print(f\"Created message, ID: {message['id']}\")\n",
    "    \n",
    "    # Create and process an agent run\n",
    "    run = project.agents.runs.create_and_process(thread_id=thread.id, agent_id=agent.id)\n",
    "    print(f\"Run finished with status: {run.status}\")\n",
    "    \n",
    "    # Check if the run failed\n",
    "    if run.status == \"failed\":\n",
    "        print(f\"Run failed: {run.last_error}\")\n",
    "    \n",
    "    # Fetch and log all messages\n",
    "    messages = project.agents.messages.list(thread_id=thread.id)\n",
    "    print(\"Conversation:\")\n",
    "    found_file = False\n",
    "    for msg in messages:\n",
    "        print(f\"{msg.role}: {msg.content}\")\n",
    "        if hasattr(msg, \"file_path_annotations\") and msg.file_path_annotations:\n",
    "            for file_path_annotation in msg.file_path_annotations:\n",
    "                file_name = Path(file_path_annotation.text).name\n",
    "                file_content = project.agents.files.get_content(file_id=file_path_annotation.file_path.file_id)\n",
    "                with open(file_name, \"wb\") as f:\n",
    "                    for chunk in file_content:\n",
    "                        f.write(chunk)\n",
    "                print(f\"Saved image file to: {Path.cwd() / file_name}\")\n",
    "                found_file = True\n",
    "    if not found_file:\n",
    "        print(\"No image file was generated by the agent.\")\n",
    "    \n",
    "    # Delete the agent when done\n",
    "    project.agents.delete_agent(agent.id)\n",
    "    print(\"Deleted agent\")"
   ]
  }
 ],
 "metadata": {
  "kernelspec": {
   "display_name": "venv",
   "language": "python",
   "name": "python3"
  },
  "language_info": {
   "codemirror_mode": {
    "name": "ipython",
    "version": 3
   },
   "file_extension": ".py",
   "mimetype": "text/x-python",
   "name": "python",
   "nbconvert_exporter": "python",
   "pygments_lexer": "ipython3",
   "version": "3.12.10"
  }
 },
 "nbformat": 4,
 "nbformat_minor": 2
}
